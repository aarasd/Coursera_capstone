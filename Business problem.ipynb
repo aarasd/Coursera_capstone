{
    "nbformat_minor": 1, 
    "cells": [
        {
            "source": "\nWelcome to my notebook\n\nUsing Data to find a fitting spot for a new Subway restaurant in Lower Manhattan\n1 Introduction / Business problem\n\"Clearly define a problem or an idea of your choice, where you would need to leverage the Foursquare location data to solve or execute. Remember that data science problems always target an audience and are meant to help a group of stakeholders solve a problem, so make sure that you explicitly describe your audience and why they would care about your problem.\"\n\nA business entrepreneur wants to open a new Subway in NYC. He is competing in a high competitive environment and is currently interested in five different locations, where he could buy property to open a new Subway. The entrepreneur now comes to us to find the ideal location of his five choices. He asks us, which location is best considering:\n\nsituation of competing Subways (he is confident of his business model, but a little less competition never hurts)\ntop venues in the surrounding area (again, competition)\n2. Data\n2.1 What dala will we need?\nWe will use data of the city of New York for Manhattan retailers to get an overview about existing subways in New York. You can view the data here:\n\nhttps://data.cityofnewyork.us/resource/uyz2-yxi9.csv\n\nWe will also use the foursquare api to gain knowledge of venues near the locations.\n\n2.2 Data Aquisition\n2.2.1 Subway Data in Lower Manhattan\nAs we already mentioned, we will use an open data set from the city of New York. The data set contains information about existing retailers in Lower Manhattan with information regarding their adress, geospatial data, name, type of retailer etc.\n\nConclusion\n\nThe entrepreneur should open a new Subway in the Battery Place Market location. We came to this conclusion by looking at nearby venues in the area and profiling possible competitions to the business model of a Subway restaurant.\n", 
            "cell_type": "markdown", 
            "metadata": {
                "collapsed": true
            }
        }, 
        {
            "execution_count": 1, 
            "cell_type": "code", 
            "metadata": {}, 
            "outputs": [], 
            "source": "# Import necessary library\nimport json\nimport pandas as pd"
        }, 
        {
            "execution_count": 2, 
            "cell_type": "code", 
            "metadata": {}, 
            "outputs": [
                {
                    "output_type": "stream", 
                    "name": "stdout", 
                    "text": "--2019-01-26 07:39:02--  https://data.cityofnewyork.us/resource/uyz2-yxi9.csv\nResolving data.cityofnewyork.us (data.cityofnewyork.us)... 52.206.68.26, 52.206.140.199, 52.206.140.205\nConnecting to data.cityofnewyork.us (data.cityofnewyork.us)|52.206.68.26|:443... connected.\nHTTP request sent, awaiting response... 200 OK\nLength: unspecified [text/csv]\nSaving to: \u2018retail.csv\u2019\n\n    [ <=>                                   ] 194,481     --.-K/s   in 0.06s   \n\n2019-01-26 07:39:03 (3.08 MB/s) - \u2018retail.csv\u2019 saved [194481]\n\n"
                }
            ], 
            "source": "!wget -O retail.csv https://data.cityofnewyork.us/resource/uyz2-yxi9.csv"
        }, 
        {
            "execution_count": 3, 
            "cell_type": "code", 
            "metadata": {}, 
            "outputs": [
                {
                    "execution_count": 3, 
                    "metadata": {}, 
                    "data": {
                        "text/html": "<div>\n<style scoped>\n    .dataframe tbody tr th:only-of-type {\n        vertical-align: middle;\n    }\n\n    .dataframe tbody tr th {\n        vertical-align: top;\n    }\n\n    .dataframe thead th {\n        text-align: right;\n    }\n</style>\n<table border=\"1\" class=\"dataframe\">\n  <thead>\n    <tr style=\"text-align: right;\">\n      <th></th>\n      <th>bbl</th>\n      <th>bin</th>\n      <th>block_lot</th>\n      <th>borough</th>\n      <th>census_tract</th>\n      <th>cnadrprf_addrline1</th>\n      <th>cnadrprf_addrline2</th>\n      <th>cnadrprf_city</th>\n      <th>cnadrprf_state</th>\n      <th>cnadrprf_zip</th>\n      <th>cnbio_org_name</th>\n      <th>community_board</th>\n      <th>council_district</th>\n      <th>latitude</th>\n      <th>longitude</th>\n      <th>nta</th>\n      <th>primary</th>\n      <th>secondary</th>\n    </tr>\n  </thead>\n  <tbody>\n    <tr>\n      <th>0</th>\n      <td>NaN</td>\n      <td>NaN</td>\n      <td>Aug-32</td>\n      <td>NaN</td>\n      <td>NaN</td>\n      <td>3 New York Plaza</td>\n      <td>NaN</td>\n      <td>New York</td>\n      <td>NY</td>\n      <td>10004.0</td>\n      <td>Starbucks Coffee</td>\n      <td>NaN</td>\n      <td>NaN</td>\n      <td>NaN</td>\n      <td>NaN</td>\n      <td>NaN</td>\n      <td>Casual Eating &amp; Takeout</td>\n      <td>F-Coffeehouse</td>\n    </tr>\n    <tr>\n      <th>1</th>\n      <td>1.000088e+09</td>\n      <td>1087700.0</td>\n      <td>Aug-32</td>\n      <td>MANHATTAN</td>\n      <td>9.0</td>\n      <td>39 Whitehall Street</td>\n      <td>NaN</td>\n      <td>New York</td>\n      <td>NY</td>\n      <td>10004.0</td>\n      <td>New York Health &amp; Racquet Club</td>\n      <td>1.0</td>\n      <td>1.0</td>\n      <td>40.703037</td>\n      <td>-74.012969</td>\n      <td>Battery Park City-Lower Manhattan             ...</td>\n      <td>Personal and Professional Services</td>\n      <td>P-Athletic Clubs/Fitness</td>\n    </tr>\n    <tr>\n      <th>2</th>\n      <td>1.000100e+09</td>\n      <td>1000028.0</td>\n      <td>Oct-32</td>\n      <td>MANHATTAN</td>\n      <td>9.0</td>\n      <td>6 Stone Street</td>\n      <td>NaN</td>\n      <td>New York</td>\n      <td>NY</td>\n      <td>10004.0</td>\n      <td>A.J. Kelly's</td>\n      <td>1.0</td>\n      <td>1.0</td>\n      <td>40.704028</td>\n      <td>-74.012692</td>\n      <td>Battery Park City-Lower Manhattan             ...</td>\n      <td>Full Service Dining</td>\n      <td>F-Irish Pub</td>\n    </tr>\n    <tr>\n      <th>3</th>\n      <td>1.000070e+09</td>\n      <td>1078965.0</td>\n      <td>Jul-35</td>\n      <td>MANHATTAN</td>\n      <td>9.0</td>\n      <td>54 Pearl Street</td>\n      <td>NaN</td>\n      <td>New York</td>\n      <td>NY</td>\n      <td>10004.0</td>\n      <td>Fraunces Tavern\u00ae Restaurant</td>\n      <td>1.0</td>\n      <td>1.0</td>\n      <td>40.703496</td>\n      <td>-74.011375</td>\n      <td>Battery Park City-Lower Manhattan             ...</td>\n      <td>Full Service Dining</td>\n      <td>F-American</td>\n    </tr>\n    <tr>\n      <th>4</th>\n      <td>1.000070e+09</td>\n      <td>1000014.0</td>\n      <td>Jul-37</td>\n      <td>MANHATTAN</td>\n      <td>9.0</td>\n      <td>60 Pearl Street</td>\n      <td>NaN</td>\n      <td>New York</td>\n      <td>NY</td>\n      <td>10004.0</td>\n      <td>Bombay's</td>\n      <td>1.0</td>\n      <td>1.0</td>\n      <td>40.703553</td>\n      <td>-74.011152</td>\n      <td>Battery Park City-Lower Manhattan             ...</td>\n      <td>Casual Eating &amp; Takeout</td>\n      <td>F-Indian</td>\n    </tr>\n  </tbody>\n</table>\n</div>", 
                        "text/plain": "            bbl        bin block_lot    borough  census_tract  \\\n0           NaN        NaN    Aug-32        NaN           NaN   \n1  1.000088e+09  1087700.0    Aug-32  MANHATTAN           9.0   \n2  1.000100e+09  1000028.0    Oct-32  MANHATTAN           9.0   \n3  1.000070e+09  1078965.0    Jul-35  MANHATTAN           9.0   \n4  1.000070e+09  1000014.0    Jul-37  MANHATTAN           9.0   \n\n    cnadrprf_addrline1 cnadrprf_addrline2 cnadrprf_city cnadrprf_state  \\\n0     3 New York Plaza                NaN      New York             NY   \n1  39 Whitehall Street                NaN      New York             NY   \n2       6 Stone Street                NaN      New York             NY   \n3      54 Pearl Street                NaN      New York             NY   \n4      60 Pearl Street                NaN      New York             NY   \n\n   cnadrprf_zip                  cnbio_org_name  community_board  \\\n0       10004.0                Starbucks Coffee              NaN   \n1       10004.0  New York Health & Racquet Club              1.0   \n2       10004.0                    A.J. Kelly's              1.0   \n3       10004.0     Fraunces Tavern\u00ae Restaurant              1.0   \n4       10004.0                        Bombay's              1.0   \n\n   council_district   latitude  longitude  \\\n0               NaN        NaN        NaN   \n1               1.0  40.703037 -74.012969   \n2               1.0  40.704028 -74.012692   \n3               1.0  40.703496 -74.011375   \n4               1.0  40.703553 -74.011152   \n\n                                                 nta  \\\n0                                                NaN   \n1  Battery Park City-Lower Manhattan             ...   \n2  Battery Park City-Lower Manhattan             ...   \n3  Battery Park City-Lower Manhattan             ...   \n4  Battery Park City-Lower Manhattan             ...   \n\n                              primary                 secondary  \n0             Casual Eating & Takeout             F-Coffeehouse  \n1  Personal and Professional Services  P-Athletic Clubs/Fitness  \n2                 Full Service Dining               F-Irish Pub  \n3                 Full Service Dining                F-American  \n4             Casual Eating & Takeout                  F-Indian  "
                    }, 
                    "output_type": "execute_result"
                }
            ], 
            "source": "# We will now read the csv file into a dataframe\ndf = pd.read_csv(\"retail.csv\")\ndf.head()"
        }, 
        {
            "execution_count": 4, 
            "cell_type": "code", 
            "metadata": {}, 
            "outputs": [
                {
                    "execution_count": 4, 
                    "metadata": {}, 
                    "data": {
                        "text/html": "<div>\n<style scoped>\n    .dataframe tbody tr th:only-of-type {\n        vertical-align: middle;\n    }\n\n    .dataframe tbody tr th {\n        vertical-align: top;\n    }\n\n    .dataframe thead th {\n        text-align: right;\n    }\n</style>\n<table border=\"1\" class=\"dataframe\">\n  <thead>\n    <tr style=\"text-align: right;\">\n      <th></th>\n      <th>bbl</th>\n      <th>bin</th>\n      <th>block_lot</th>\n      <th>borough</th>\n      <th>census_tract</th>\n      <th>cnadrprf_addrline1</th>\n      <th>cnadrprf_addrline2</th>\n      <th>cnadrprf_city</th>\n      <th>cnadrprf_state</th>\n      <th>cnadrprf_zip</th>\n      <th>cnbio_org_name</th>\n      <th>community_board</th>\n      <th>council_district</th>\n      <th>latitude</th>\n      <th>longitude</th>\n      <th>nta</th>\n      <th>primary</th>\n      <th>secondary</th>\n    </tr>\n  </thead>\n  <tbody>\n    <tr>\n      <th>16</th>\n      <td>NaN</td>\n      <td>NaN</td>\n      <td>1-Apr</td>\n      <td>NaN</td>\n      <td>NaN</td>\n      <td>1 New York Plaza</td>\n      <td>Concourse</td>\n      <td>New York</td>\n      <td>NY</td>\n      <td>10004.0</td>\n      <td>Subway</td>\n      <td>NaN</td>\n      <td>NaN</td>\n      <td>NaN</td>\n      <td>NaN</td>\n      <td>NaN</td>\n      <td>Casual Eating &amp; Takeout</td>\n      <td>F-Fast Food</td>\n    </tr>\n    <tr>\n      <th>21</th>\n      <td>1.000070e+09</td>\n      <td>1000009.0</td>\n      <td>28-Jul</td>\n      <td>MANHATTAN</td>\n      <td>9.0</td>\n      <td>28 Water Street</td>\n      <td>NaN</td>\n      <td>New York</td>\n      <td>NY</td>\n      <td>10004.0</td>\n      <td>Subway</td>\n      <td>1.0</td>\n      <td>1.0</td>\n      <td>40.703095</td>\n      <td>-74.011029</td>\n      <td>Battery Park City-Lower Manhattan             ...</td>\n      <td>Casual Eating &amp; Takeout</td>\n      <td>F-Fast Food</td>\n    </tr>\n    <tr>\n      <th>118</th>\n      <td>1.000130e+09</td>\n      <td>1000044.0</td>\n      <td>13-5</td>\n      <td>MANHATTAN</td>\n      <td>13.0</td>\n      <td>11 Broadway</td>\n      <td>NaN</td>\n      <td>New York</td>\n      <td>NY</td>\n      <td>10004.0</td>\n      <td>Subway</td>\n      <td>1.0</td>\n      <td>1.0</td>\n      <td>40.705354</td>\n      <td>-74.013731</td>\n      <td>Battery Park City-Lower Manhattan             ...</td>\n      <td>Casual Eating &amp; Takeout</td>\n      <td>F-Fast Food</td>\n    </tr>\n    <tr>\n      <th>184</th>\n      <td>1.000240e+09</td>\n      <td>1000819.0</td>\n      <td>24-29</td>\n      <td>MANHATTAN</td>\n      <td>9.0</td>\n      <td>30 New Street</td>\n      <td>NaN</td>\n      <td>New York</td>\n      <td>NY</td>\n      <td>10004.0</td>\n      <td>Subway</td>\n      <td>1.0</td>\n      <td>1.0</td>\n      <td>40.706314</td>\n      <td>-74.011978</td>\n      <td>Battery Park City-Lower Manhattan             ...</td>\n      <td>Casual Eating &amp; Takeout</td>\n      <td>F-Fast Food</td>\n    </tr>\n    <tr>\n      <th>317</th>\n      <td>1.000390e+09</td>\n      <td>1000882.0</td>\n      <td>39-40</td>\n      <td>MANHATTAN</td>\n      <td>7.0</td>\n      <td>122 Water Street</td>\n      <td>NaN</td>\n      <td>New York</td>\n      <td>NY</td>\n      <td>10005.0</td>\n      <td>Subway</td>\n      <td>1.0</td>\n      <td>1.0</td>\n      <td>40.705343</td>\n      <td>-74.007181</td>\n      <td>Battery Park City-Lower Manhattan             ...</td>\n      <td>Casual Eating &amp; Takeout</td>\n      <td>F-Fast Food</td>\n    </tr>\n  </tbody>\n</table>\n</div>", 
                        "text/plain": "              bbl        bin block_lot    borough  census_tract  \\\n16            NaN        NaN     1-Apr        NaN           NaN   \n21   1.000070e+09  1000009.0    28-Jul  MANHATTAN           9.0   \n118  1.000130e+09  1000044.0      13-5  MANHATTAN          13.0   \n184  1.000240e+09  1000819.0     24-29  MANHATTAN           9.0   \n317  1.000390e+09  1000882.0     39-40  MANHATTAN           7.0   \n\n    cnadrprf_addrline1 cnadrprf_addrline2 cnadrprf_city cnadrprf_state  \\\n16    1 New York Plaza          Concourse      New York             NY   \n21     28 Water Street                NaN      New York             NY   \n118        11 Broadway                NaN      New York             NY   \n184      30 New Street                NaN      New York             NY   \n317   122 Water Street                NaN      New York             NY   \n\n     cnadrprf_zip cnbio_org_name  community_board  council_district  \\\n16        10004.0         Subway              NaN               NaN   \n21        10004.0         Subway              1.0               1.0   \n118       10004.0         Subway              1.0               1.0   \n184       10004.0         Subway              1.0               1.0   \n317       10005.0         Subway              1.0               1.0   \n\n      latitude  longitude                                                nta  \\\n16         NaN        NaN                                                NaN   \n21   40.703095 -74.011029  Battery Park City-Lower Manhattan             ...   \n118  40.705354 -74.013731  Battery Park City-Lower Manhattan             ...   \n184  40.706314 -74.011978  Battery Park City-Lower Manhattan             ...   \n317  40.705343 -74.007181  Battery Park City-Lower Manhattan             ...   \n\n                     primary    secondary  \n16   Casual Eating & Takeout  F-Fast Food  \n21   Casual Eating & Takeout  F-Fast Food  \n118  Casual Eating & Takeout  F-Fast Food  \n184  Casual Eating & Takeout  F-Fast Food  \n317  Casual Eating & Takeout  F-Fast Food  "
                    }, 
                    "output_type": "execute_result"
                }
            ], 
            "source": "subways = df.loc[df['cnbio_org_name'] == \"Subway\"]\nsubways.head()"
        }, 
        {
            "execution_count": 5, 
            "cell_type": "code", 
            "metadata": {}, 
            "outputs": [
                {
                    "execution_count": 5, 
                    "metadata": {}, 
                    "data": {
                        "text/html": "<div>\n<style scoped>\n    .dataframe tbody tr th:only-of-type {\n        vertical-align: middle;\n    }\n\n    .dataframe tbody tr th {\n        vertical-align: top;\n    }\n\n    .dataframe thead th {\n        text-align: right;\n    }\n</style>\n<table border=\"1\" class=\"dataframe\">\n  <thead>\n    <tr style=\"text-align: right;\">\n      <th></th>\n      <th>borough</th>\n      <th>cnadrprf_addrline1</th>\n      <th>cnbio_org_name</th>\n      <th>latitude</th>\n      <th>longitude</th>\n    </tr>\n  </thead>\n  <tbody>\n    <tr>\n      <th>0</th>\n      <td>NaN</td>\n      <td>1 New York Plaza</td>\n      <td>Subway</td>\n      <td>NaN</td>\n      <td>NaN</td>\n    </tr>\n    <tr>\n      <th>1</th>\n      <td>MANHATTAN</td>\n      <td>28 Water Street</td>\n      <td>Subway</td>\n      <td>40.703095</td>\n      <td>-74.011029</td>\n    </tr>\n    <tr>\n      <th>2</th>\n      <td>MANHATTAN</td>\n      <td>11 Broadway</td>\n      <td>Subway</td>\n      <td>40.705354</td>\n      <td>-74.013731</td>\n    </tr>\n    <tr>\n      <th>3</th>\n      <td>MANHATTAN</td>\n      <td>30 New Street</td>\n      <td>Subway</td>\n      <td>40.706314</td>\n      <td>-74.011978</td>\n    </tr>\n    <tr>\n      <th>4</th>\n      <td>MANHATTAN</td>\n      <td>122 Water Street</td>\n      <td>Subway</td>\n      <td>40.705343</td>\n      <td>-74.007181</td>\n    </tr>\n    <tr>\n      <th>5</th>\n      <td>MANHATTAN</td>\n      <td>100 Maiden Lane</td>\n      <td>Subway</td>\n      <td>40.706867</td>\n      <td>-74.006990</td>\n    </tr>\n    <tr>\n      <th>6</th>\n      <td>MANHATTAN</td>\n      <td>111 Broadway</td>\n      <td>Subway</td>\n      <td>40.708486</td>\n      <td>-74.011113</td>\n    </tr>\n    <tr>\n      <th>7</th>\n      <td>MANHATTAN</td>\n      <td>106 Greenwich Street</td>\n      <td>Subway</td>\n      <td>40.708442</td>\n      <td>-74.013400</td>\n    </tr>\n    <tr>\n      <th>8</th>\n      <td>MANHATTAN</td>\n      <td>21 Maiden Lane</td>\n      <td>Subway</td>\n      <td>40.709260</td>\n      <td>-74.009082</td>\n    </tr>\n    <tr>\n      <th>9</th>\n      <td>MANHATTAN</td>\n      <td>112 John Street</td>\n      <td>Subway</td>\n      <td>40.707676</td>\n      <td>-74.005796</td>\n    </tr>\n    <tr>\n      <th>10</th>\n      <td>MANHATTAN</td>\n      <td>118 Fulton Street</td>\n      <td>Subway</td>\n      <td>40.710040</td>\n      <td>-74.007405</td>\n    </tr>\n  </tbody>\n</table>\n</div>", 
                        "text/plain": "      borough    cnadrprf_addrline1 cnbio_org_name   latitude  longitude\n0         NaN      1 New York Plaza         Subway        NaN        NaN\n1   MANHATTAN       28 Water Street         Subway  40.703095 -74.011029\n2   MANHATTAN           11 Broadway         Subway  40.705354 -74.013731\n3   MANHATTAN         30 New Street         Subway  40.706314 -74.011978\n4   MANHATTAN      122 Water Street         Subway  40.705343 -74.007181\n5   MANHATTAN       100 Maiden Lane         Subway  40.706867 -74.006990\n6   MANHATTAN          111 Broadway         Subway  40.708486 -74.011113\n7   MANHATTAN  106 Greenwich Street         Subway  40.708442 -74.013400\n8   MANHATTAN        21 Maiden Lane         Subway  40.709260 -74.009082\n9   MANHATTAN       112 John Street         Subway  40.707676 -74.005796\n10  MANHATTAN     118 Fulton Street         Subway  40.710040 -74.007405"
                    }, 
                    "output_type": "execute_result"
                }
            ], 
            "source": "# We could have also just splice the dataframe but i am still unfamiliar with the drop function, so i applied it here\nsub_drop = subways.drop(['block_lot','bbl','bin','census_tract','cnadrprf_city','cnadrprf_zip',\n              'community_board', 'cnadrprf_addrline2','council_district', 'primary', 'secondary', 'cnadrprf_state', 'nta'], axis = 1)\nsub_drop.reset_index(inplace=True, drop=True)\nsub_drop"
        }, 
        {
            "source": "Now we See we have one line where we have NaN values. Since only one value is missing we can try to add the values manually. With the help of latlong.net, we see that the values are\n\n40.702194,-74.012046\n\nWe also add the missing borough to our data", 
            "cell_type": "markdown", 
            "metadata": {}
        }, 
        {
            "execution_count": 7, 
            "cell_type": "code", 
            "metadata": {}, 
            "outputs": [
                {
                    "execution_count": 7, 
                    "metadata": {}, 
                    "data": {
                        "text/html": "<div>\n<style scoped>\n    .dataframe tbody tr th:only-of-type {\n        vertical-align: middle;\n    }\n\n    .dataframe tbody tr th {\n        vertical-align: top;\n    }\n\n    .dataframe thead th {\n        text-align: right;\n    }\n</style>\n<table border=\"1\" class=\"dataframe\">\n  <thead>\n    <tr style=\"text-align: right;\">\n      <th></th>\n      <th>borough</th>\n      <th>adress</th>\n      <th>name</th>\n      <th>latitude</th>\n      <th>longitude</th>\n    </tr>\n  </thead>\n  <tbody>\n    <tr>\n      <th>0</th>\n      <td>MANHATTAN</td>\n      <td>1 New York Plaza</td>\n      <td>Subway</td>\n      <td>40.702194</td>\n      <td>-74.012046</td>\n    </tr>\n    <tr>\n      <th>1</th>\n      <td>MANHATTAN</td>\n      <td>28 Water Street</td>\n      <td>Subway</td>\n      <td>40.703095</td>\n      <td>-74.011029</td>\n    </tr>\n    <tr>\n      <th>2</th>\n      <td>MANHATTAN</td>\n      <td>11 Broadway</td>\n      <td>Subway</td>\n      <td>40.705354</td>\n      <td>-74.013731</td>\n    </tr>\n    <tr>\n      <th>3</th>\n      <td>MANHATTAN</td>\n      <td>30 New Street</td>\n      <td>Subway</td>\n      <td>40.706314</td>\n      <td>-74.011978</td>\n    </tr>\n    <tr>\n      <th>4</th>\n      <td>MANHATTAN</td>\n      <td>122 Water Street</td>\n      <td>Subway</td>\n      <td>40.705343</td>\n      <td>-74.007181</td>\n    </tr>\n  </tbody>\n</table>\n</div>", 
                        "text/plain": "     borough            adress    name   latitude  longitude\n0  MANHATTAN  1 New York Plaza  Subway  40.702194 -74.012046\n1  MANHATTAN   28 Water Street  Subway  40.703095 -74.011029\n2  MANHATTAN       11 Broadway  Subway  40.705354 -74.013731\n3  MANHATTAN     30 New Street  Subway  40.706314 -74.011978\n4  MANHATTAN  122 Water Street  Subway  40.705343 -74.007181"
                    }, 
                    "output_type": "execute_result"
                }
            ], 
            "source": "values = {'borough': 'MANHATTAN','latitude': 40.702194, 'longitude': -74.012046}\nsub_clean = sub_drop.fillna(value=values)\nsub_cleaned= sub_clean.rename(index=str, columns={\"cnadrprf_addrline1\": \"adress\", \"cnbio_org_name\": \"name\"})\nsub_cleaned.head()"
        }, 
        {
            "execution_count": 8, 
            "cell_type": "code", 
            "metadata": {}, 
            "outputs": [], 
            "source": "\nsub_cleaned['exists'] = '1'\n\nsub_cleaned = sub_cleaned.append({'borough': \"MANHATTAN\", 'adress': \"55 Wall Street\", 'name' : \"Subway\", 'latitude': 40.706019, \"longitude\": -74.008831 , 'exists': 0}, ignore_index=True)\nsub_cleaned = sub_cleaned.append({'borough': \"MANHATTAN\", 'adress': \"Battery Place Market\" , 'name' : \"Subway\", 'latitude': 40.707224, \"longitude\":-74.017063 , 'exists': 0}, ignore_index=True)\nsub_cleaned = sub_cleaned.append({'borough': \"MANHATTAN\", 'adress': \"World Trace Center\", 'name' : \"Subway\", 'latitude':40.711425 , \"longitude\": -74.012413, 'exists': 0}, ignore_index=True)"
        }, 
        {
            "execution_count": 9, 
            "cell_type": "code", 
            "metadata": {}, 
            "outputs": [
                {
                    "ename": "ImportError", 
                    "evalue": "No module named 'folium'", 
                    "traceback": [
                        "\u001b[0;31m---------------------------------------------------------------------------\u001b[0m", 
                        "\u001b[0;31mImportError\u001b[0m                               Traceback (most recent call last)", 
                        "\u001b[0;32m<ipython-input-9-d41f76c3ee2e>\u001b[0m in \u001b[0;36m<module>\u001b[0;34m()\u001b[0m\n\u001b[0;32m----> 1\u001b[0;31m \u001b[0;32mimport\u001b[0m \u001b[0mfolium\u001b[0m\u001b[0;34m\u001b[0m\u001b[0m\n\u001b[0m\u001b[1;32m      2\u001b[0m \u001b[0;34m\u001b[0m\u001b[0m\n\u001b[1;32m      3\u001b[0m \u001b[0;31m# We need lat and long matching Lower Manhattan, since we will need a zoomed-in view of our map\u001b[0m\u001b[0;34m\u001b[0m\u001b[0;34m\u001b[0m\u001b[0m\n\u001b[1;32m      4\u001b[0m \u001b[0mlatitude\u001b[0m\u001b[0;34m=\u001b[0m\u001b[0;36m40.705\u001b[0m\u001b[0;34m\u001b[0m\u001b[0m\n\u001b[1;32m      5\u001b[0m \u001b[0mlongitude\u001b[0m\u001b[0;34m=\u001b[0m\u001b[0;34m-\u001b[0m\u001b[0;36m74.011\u001b[0m\u001b[0;34m\u001b[0m\u001b[0m\n", 
                        "\u001b[0;31mImportError\u001b[0m: No module named 'folium'"
                    ], 
                    "output_type": "error"
                }
            ], 
            "source": "import folium\n\n# We need lat and long matching Lower Manhattan, since we will need a zoomed-in view of our map\nlatitude=40.705\nlongitude=-74.011\n\nmap_nyc = folium.Map(location=[latitude, longitude], zoom_start=15)\n\nfor lat, long, name, borough, address, exists in zip(sub_cleaned['latitude'], sub_cleaned['longitude'], sub_cleaned['name'],\n                                           sub_cleaned['borough'], sub_cleaned['adress'], sub_cleaned['exists']):\n    label = \"{} ({}): {} , Exists:{}\".format(borough, name, address, exists)\n    popup = folium.Popup(label, parse_html=True)\n    if exists == 0:\n        colorCircle = \"blue\"\n        filled_color = \"#4442cc\"\n    else:\n        colorCircle = \"red\"\n        filled_color = \"#cc4f41\"\n    folium.CircleMarker(\n        [lat, long],\n        radius=7,\n        popup=popup,\n        color=colorCircle,\n        fill=True,\n        fill_color=filled_color,\n        fill_opacity=0.5,\n        parse_html=False).add_to(map_nyc)\n    \nmap_nyc"
        }, 
        {
            "execution_count": 10, 
            "cell_type": "code", 
            "metadata": {}, 
            "outputs": [
                {
                    "execution_count": 10, 
                    "metadata": {}, 
                    "data": {
                        "text/html": "<div>\n<style scoped>\n    .dataframe tbody tr th:only-of-type {\n        vertical-align: middle;\n    }\n\n    .dataframe tbody tr th {\n        vertical-align: top;\n    }\n\n    .dataframe thead th {\n        text-align: right;\n    }\n</style>\n<table border=\"1\" class=\"dataframe\">\n  <thead>\n    <tr style=\"text-align: right;\">\n      <th></th>\n      <th>borough</th>\n      <th>adress</th>\n      <th>name</th>\n      <th>latitude</th>\n      <th>longitude</th>\n      <th>exists</th>\n    </tr>\n  </thead>\n  <tbody>\n    <tr>\n      <th>11</th>\n      <td>MANHATTAN</td>\n      <td>55 Wall Street</td>\n      <td>Subway</td>\n      <td>40.706019</td>\n      <td>-74.008831</td>\n      <td>0</td>\n    </tr>\n    <tr>\n      <th>12</th>\n      <td>MANHATTAN</td>\n      <td>Battery Place Market</td>\n      <td>Subway</td>\n      <td>40.707224</td>\n      <td>-74.017063</td>\n      <td>0</td>\n    </tr>\n    <tr>\n      <th>13</th>\n      <td>MANHATTAN</td>\n      <td>World Trace Center</td>\n      <td>Subway</td>\n      <td>40.711425</td>\n      <td>-74.012413</td>\n      <td>0</td>\n    </tr>\n  </tbody>\n</table>\n</div>", 
                        "text/plain": "      borough                adress    name   latitude  longitude exists\n11  MANHATTAN        55 Wall Street  Subway  40.706019 -74.008831      0\n12  MANHATTAN  Battery Place Market  Subway  40.707224 -74.017063      0\n13  MANHATTAN    World Trace Center  Subway  40.711425 -74.012413      0"
                    }, 
                    "output_type": "execute_result"
                }
            ], 
            "source": "sub_potentials = sub_cleaned.loc[sub_cleaned['exists'] == 0]\nsub_potentials"
        }, 
        {
            "execution_count": 14, 
            "cell_type": "code", 
            "metadata": {}, 
            "outputs": [], 
            "source": "def getNearbyVenues(latitudes, longitudes,adresses, radius=500, LIMIT=100):\n    \n    venues_list=[]\n    for  lat, lng,adress in zip(latitudes, longitudes,adresses):\n        \n            \n        # create the API request URL\n        url = 'https://api.foursquare.com/v2/venues/explore?&client_id={}&client_secret={}&v={}&ll={},{}&radius={}&limit={}'.format(\n            CLIENT_ID, \n            CLIENT_SECRET, \n            VERSION, \n            lat, \n            lng, \n            radius, \n            LIMIT)\n            \n        # make the GET request\n        results = requests.get(url).json()[\"response\"]['groups'][0]['items']\n        \n        # return only relevant information for each nearby venue\n        venues_list.append([(\n            adress, \n            lat, \n            lng, \n            v['venue']['name'], \n            v['venue']['location']['lat'], \n            v['venue']['location']['lng'],  \n            v['venue']['categories'][0]['name']) for v in results])\n\n    nearby_venues = pd.DataFrame([item for venue_list in venues_list for item in venue_list])\n    nearby_venues.columns = ['Adress', \n                  'Street Latitude', \n                  'Street Longitude', \n                  'Venue', \n                  'Venue Latitude', \n                  'Venue Longitude', \n                  'Venue Category']\n    \n    return(nearby_venues)"
        }, 
        {
            "execution_count": 15, 
            "cell_type": "code", 
            "metadata": {}, 
            "outputs": [
                {
                    "ename": "NameError", 
                    "evalue": "name 'CLIENT_ID' is not defined", 
                    "traceback": [
                        "\u001b[0;31m---------------------------------------------------------------------------\u001b[0m", 
                        "\u001b[0;31mNameError\u001b[0m                                 Traceback (most recent call last)", 
                        "\u001b[0;32m<ipython-input-15-8caa7fabbc36>\u001b[0m in \u001b[0;36m<module>\u001b[0;34m()\u001b[0m\n\u001b[1;32m      3\u001b[0m location_venues = getNearbyVenues(latitudes=sub_potentials['latitude'],\n\u001b[1;32m      4\u001b[0m                                    \u001b[0mlongitudes\u001b[0m\u001b[0;34m=\u001b[0m\u001b[0msub_potentials\u001b[0m\u001b[0;34m[\u001b[0m\u001b[0;34m'longitude'\u001b[0m\u001b[0;34m]\u001b[0m\u001b[0;34m,\u001b[0m\u001b[0;34m\u001b[0m\u001b[0m\n\u001b[0;32m----> 5\u001b[0;31m                                     \u001b[0madresses\u001b[0m\u001b[0;34m=\u001b[0m\u001b[0msub_potentials\u001b[0m\u001b[0;34m[\u001b[0m\u001b[0;34m\"adress\"\u001b[0m\u001b[0;34m]\u001b[0m\u001b[0;34m\u001b[0m\u001b[0m\n\u001b[0m\u001b[1;32m      6\u001b[0m                                   )\n", 
                        "\u001b[0;32m<ipython-input-14-d27bf0cefd46>\u001b[0m in \u001b[0;36mgetNearbyVenues\u001b[0;34m(latitudes, longitudes, adresses, radius, LIMIT)\u001b[0m\n\u001b[1;32m      7\u001b[0m         \u001b[0;31m# create the API request URL\u001b[0m\u001b[0;34m\u001b[0m\u001b[0;34m\u001b[0m\u001b[0m\n\u001b[1;32m      8\u001b[0m         url = 'https://api.foursquare.com/v2/venues/explore?&client_id={}&client_secret={}&v={}&ll={},{}&radius={}&limit={}'.format(\n\u001b[0;32m----> 9\u001b[0;31m             \u001b[0mCLIENT_ID\u001b[0m\u001b[0;34m,\u001b[0m\u001b[0;34m\u001b[0m\u001b[0m\n\u001b[0m\u001b[1;32m     10\u001b[0m             \u001b[0mCLIENT_SECRET\u001b[0m\u001b[0;34m,\u001b[0m\u001b[0;34m\u001b[0m\u001b[0m\n\u001b[1;32m     11\u001b[0m             \u001b[0mVERSION\u001b[0m\u001b[0;34m,\u001b[0m\u001b[0;34m\u001b[0m\u001b[0m\n", 
                        "\u001b[0;31mNameError\u001b[0m: name 'CLIENT_ID' is not defined"
                    ], 
                    "output_type": "error"
                }
            ], 
            "source": "import requests\n# Run the above function on each location and create a new dataframe called location_venues and display it.\nlocation_venues = getNearbyVenues(latitudes=sub_potentials['latitude'],\n                                   longitudes=sub_potentials['longitude'],\n                                    adresses=sub_potentials[\"adress\"]\n                                  )"
        }, 
        {
            "execution_count": 13, 
            "cell_type": "code", 
            "metadata": {}, 
            "outputs": [
                {
                    "ename": "NameError", 
                    "evalue": "name 'location_venues' is not defined", 
                    "traceback": [
                        "\u001b[0;31m---------------------------------------------------------------------------\u001b[0m", 
                        "\u001b[0;31mNameError\u001b[0m                                 Traceback (most recent call last)", 
                        "\u001b[0;32m<ipython-input-13-eb60f31720d4>\u001b[0m in \u001b[0;36m<module>\u001b[0;34m()\u001b[0m\n\u001b[0;32m----> 1\u001b[0;31m \u001b[0mlocation_venues\u001b[0m\u001b[0;34m.\u001b[0m\u001b[0mhead\u001b[0m\u001b[0;34m(\u001b[0m\u001b[0;34m)\u001b[0m\u001b[0;34m\u001b[0m\u001b[0m\n\u001b[0m", 
                        "\u001b[0;31mNameError\u001b[0m: name 'location_venues' is not defined"
                    ], 
                    "output_type": "error"
                }
            ], 
            "source": "location_venues.head()\n"
        }, 
        {
            "execution_count": 16, 
            "cell_type": "code", 
            "metadata": {}, 
            "outputs": [
                {
                    "ename": "NameError", 
                    "evalue": "name 'location_venues' is not defined", 
                    "traceback": [
                        "\u001b[0;31m---------------------------------------------------------------------------\u001b[0m", 
                        "\u001b[0;31mNameError\u001b[0m                                 Traceback (most recent call last)", 
                        "\u001b[0;32m<ipython-input-16-e9f60c4b7a1c>\u001b[0m in \u001b[0;36m<module>\u001b[0;34m()\u001b[0m\n\u001b[0;32m----> 1\u001b[0;31m \u001b[0mlocation_venues\u001b[0m\u001b[0;34m.\u001b[0m\u001b[0mgroupby\u001b[0m\u001b[0;34m(\u001b[0m\u001b[0;34m\"Adress\"\u001b[0m\u001b[0;34m)\u001b[0m\u001b[0;34m.\u001b[0m\u001b[0mcount\u001b[0m\u001b[0;34m(\u001b[0m\u001b[0;34m)\u001b[0m\u001b[0;34m\u001b[0m\u001b[0m\n\u001b[0m", 
                        "\u001b[0;31mNameError\u001b[0m: name 'location_venues' is not defined"
                    ], 
                    "output_type": "error"
                }
            ], 
            "source": "location_venues.groupby(\"Adress\").count()\n"
        }, 
        {
            "source": "We can see we have reached our max. Venue count for the potential Wall Street and World Trade Center location. In reality there are more, but we want to limit our calls to the foursquare api and just will assume here that these 100 venues are all venues in the proximity of the potential Subways.", 
            "cell_type": "markdown", 
            "metadata": {}
        }, 
        {
            "execution_count": 18, 
            "cell_type": "code", 
            "metadata": {}, 
            "outputs": [
                {
                    "ename": "NameError", 
                    "evalue": "name 'location_venues' is not defined", 
                    "traceback": [
                        "\u001b[0;31m---------------------------------------------------------------------------\u001b[0m", 
                        "\u001b[0;31mNameError\u001b[0m                                 Traceback (most recent call last)", 
                        "\u001b[0;32m<ipython-input-18-757e5464ae93>\u001b[0m in \u001b[0;36m<module>\u001b[0;34m()\u001b[0m\n\u001b[1;32m      1\u001b[0m \u001b[0;31m# hot encoding\u001b[0m\u001b[0;34m\u001b[0m\u001b[0;34m\u001b[0m\u001b[0m\n\u001b[0;32m----> 2\u001b[0;31m \u001b[0mvenues_hot\u001b[0m \u001b[0;34m=\u001b[0m \u001b[0mpd\u001b[0m\u001b[0;34m.\u001b[0m\u001b[0mget_dummies\u001b[0m\u001b[0;34m(\u001b[0m\u001b[0mlocation_venues\u001b[0m\u001b[0;34m[\u001b[0m\u001b[0;34m[\u001b[0m\u001b[0;34m'Venue Category'\u001b[0m\u001b[0;34m]\u001b[0m\u001b[0;34m]\u001b[0m\u001b[0;34m,\u001b[0m \u001b[0mprefix\u001b[0m\u001b[0;34m=\u001b[0m\u001b[0;34m\"\"\u001b[0m\u001b[0;34m,\u001b[0m \u001b[0mprefix_sep\u001b[0m\u001b[0;34m=\u001b[0m\u001b[0;34m\"\"\u001b[0m\u001b[0;34m)\u001b[0m\u001b[0;34m\u001b[0m\u001b[0m\n\u001b[0m\u001b[1;32m      3\u001b[0m \u001b[0;34m\u001b[0m\u001b[0m\n\u001b[1;32m      4\u001b[0m \u001b[0;31m# add street column back to dataframe\u001b[0m\u001b[0;34m\u001b[0m\u001b[0;34m\u001b[0m\u001b[0m\n\u001b[1;32m      5\u001b[0m \u001b[0mvenues_hot\u001b[0m\u001b[0;34m[\u001b[0m\u001b[0;34m'Adress'\u001b[0m\u001b[0;34m]\u001b[0m \u001b[0;34m=\u001b[0m \u001b[0mlocation_venues\u001b[0m\u001b[0;34m[\u001b[0m\u001b[0;34m'Adress'\u001b[0m\u001b[0;34m]\u001b[0m\u001b[0;34m\u001b[0m\u001b[0m\n", 
                        "\u001b[0;31mNameError\u001b[0m: name 'location_venues' is not defined"
                    ], 
                    "output_type": "error"
                }
            ], 
            "source": "# hot encoding\nvenues_hot = pd.get_dummies(location_venues[['Venue Category']], prefix=\"\", prefix_sep=\"\")\n\n# add street column back to dataframe\nvenues_hot['Adress'] = location_venues['Adress'] \n\n# move street column to the first column\nfixed_columns = [venues_hot.columns[-1]] + list(venues_hot.columns[:-1])\n\n#fixed_columns\nvenues_hot = venues_hot[fixed_columns]\n\nvenues_hot.head()"
        }, 
        {
            "execution_count": 19, 
            "cell_type": "code", 
            "metadata": {}, 
            "outputs": [
                {
                    "ename": "NameError", 
                    "evalue": "name 'venues_hot' is not defined", 
                    "traceback": [
                        "\u001b[0;31m---------------------------------------------------------------------------\u001b[0m", 
                        "\u001b[0;31mNameError\u001b[0m                                 Traceback (most recent call last)", 
                        "\u001b[0;32m<ipython-input-19-0d15c69f5285>\u001b[0m in \u001b[0;36m<module>\u001b[0;34m()\u001b[0m\n\u001b[1;32m      1\u001b[0m \u001b[0;34m\u001b[0m\u001b[0m\n\u001b[0;32m----> 2\u001b[0;31m \u001b[0mpotentials_grouped\u001b[0m \u001b[0;34m=\u001b[0m \u001b[0mvenues_hot\u001b[0m\u001b[0;34m.\u001b[0m\u001b[0mgroupby\u001b[0m\u001b[0;34m(\u001b[0m\u001b[0;34m'Adress'\u001b[0m\u001b[0;34m)\u001b[0m\u001b[0;34m.\u001b[0m\u001b[0mmean\u001b[0m\u001b[0;34m(\u001b[0m\u001b[0;34m)\u001b[0m\u001b[0;34m.\u001b[0m\u001b[0mreset_index\u001b[0m\u001b[0;34m(\u001b[0m\u001b[0;34m)\u001b[0m\u001b[0;34m\u001b[0m\u001b[0m\n\u001b[0m\u001b[1;32m      3\u001b[0m \u001b[0mpotentials_grouped\u001b[0m\u001b[0;34m\u001b[0m\u001b[0m\n", 
                        "\u001b[0;31mNameError\u001b[0m: name 'venues_hot' is not defined"
                    ], 
                    "output_type": "error"
                }
            ], 
            "source": "\npotentials_grouped = venues_hot.groupby('Adress').mean().reset_index()\npotentials_grouped"
        }, 
        {
            "execution_count": 20, 
            "cell_type": "code", 
            "metadata": {}, 
            "outputs": [
                {
                    "ename": "NameError", 
                    "evalue": "name 'potentials_grouped' is not defined", 
                    "traceback": [
                        "\u001b[0;31m---------------------------------------------------------------------------\u001b[0m", 
                        "\u001b[0;31mNameError\u001b[0m                                 Traceback (most recent call last)", 
                        "\u001b[0;32m<ipython-input-20-70b2aeb6e050>\u001b[0m in \u001b[0;36m<module>\u001b[0;34m()\u001b[0m\n\u001b[1;32m      1\u001b[0m \u001b[0mnum_top_venues\u001b[0m \u001b[0;34m=\u001b[0m \u001b[0;36m10\u001b[0m\u001b[0;34m\u001b[0m\u001b[0m\n\u001b[1;32m      2\u001b[0m \u001b[0;34m\u001b[0m\u001b[0m\n\u001b[0;32m----> 3\u001b[0;31m \u001b[0;32mfor\u001b[0m \u001b[0mpotential\u001b[0m \u001b[0;32min\u001b[0m \u001b[0mpotentials_grouped\u001b[0m\u001b[0;34m[\u001b[0m\u001b[0;34m\"Adress\"\u001b[0m\u001b[0;34m]\u001b[0m\u001b[0;34m:\u001b[0m\u001b[0;34m\u001b[0m\u001b[0m\n\u001b[0m\u001b[1;32m      4\u001b[0m     \u001b[0mprint\u001b[0m\u001b[0;34m(\u001b[0m\u001b[0;34m\"---- Top Venues surrounding potential Subway :\"\u001b[0m\u001b[0;34m+\u001b[0m\u001b[0mpotential\u001b[0m\u001b[0;34m+\u001b[0m\u001b[0;34m\"----\"\u001b[0m\u001b[0;34m)\u001b[0m\u001b[0;34m\u001b[0m\u001b[0m\n\u001b[1;32m      5\u001b[0m     \u001b[0mtemp\u001b[0m \u001b[0;34m=\u001b[0m \u001b[0mpotentials_grouped\u001b[0m\u001b[0;34m[\u001b[0m\u001b[0mpotentials_grouped\u001b[0m\u001b[0;34m[\u001b[0m\u001b[0;34m'Adress'\u001b[0m\u001b[0;34m]\u001b[0m \u001b[0;34m==\u001b[0m \u001b[0mpotential\u001b[0m\u001b[0;34m]\u001b[0m\u001b[0;34m.\u001b[0m\u001b[0mT\u001b[0m\u001b[0;34m.\u001b[0m\u001b[0mreset_index\u001b[0m\u001b[0;34m(\u001b[0m\u001b[0;34m)\u001b[0m\u001b[0;34m\u001b[0m\u001b[0m\n", 
                        "\u001b[0;31mNameError\u001b[0m: name 'potentials_grouped' is not defined"
                    ], 
                    "output_type": "error"
                }
            ], 
            "source": "num_top_venues = 10\n\nfor potential in potentials_grouped[\"Adress\"]:\n    print(\"---- Top Venues surrounding potential Subway :\"+potential+\"----\")\n    temp = potentials_grouped[potentials_grouped['Adress'] == potential].T.reset_index()\n    temp.columns = ['venue','freq']\n    temp = temp.iloc[1:]\n    temp['freq'] = temp['freq'].astype(float)\n    temp = temp.round({'freq': 2})\n    print(temp.sort_values('freq', ascending=False).reset_index(drop=True).head(num_top_venues))\n    print('\\n')"
        }, 
        {
            "execution_count": 21, 
            "cell_type": "code", 
            "metadata": {}, 
            "outputs": [], 
            "source": "#Define a function to return the most common venues/facilities nearby real estate investments#\n\ndef return_most_common_venues(row, num_top_venues):\n    row_categories = row.iloc[1:]\n    row_categories_sorted = row_categories.sort_values(ascending=False)\n    \n    return row_categories_sorted.index.values[0:num_top_venues]"
        }, 
        {
            "execution_count": 22, 
            "cell_type": "code", 
            "metadata": {}, 
            "outputs": [], 
            "source": "import numpy as np\nnum_top_venues = 10\n\nindicators = ['st', 'nd', 'rd']\n\n# create columns according to number of top venues\ncolumns = ['Adress']\nfor ind in np.arange(num_top_venues):\n    try:\n        columns.append('{}{} Most Common Venue'.format(ind+1, indicators[ind]))\n    except:\n        columns.append('{}th Most Common Venue'.format(ind+1))"
        }, 
        {
            "execution_count": 23, 
            "cell_type": "code", 
            "metadata": {}, 
            "outputs": [
                {
                    "ename": "NameError", 
                    "evalue": "name 'potentials_grouped' is not defined", 
                    "traceback": [
                        "\u001b[0;31m---------------------------------------------------------------------------\u001b[0m", 
                        "\u001b[0;31mNameError\u001b[0m                                 Traceback (most recent call last)", 
                        "\u001b[0;32m<ipython-input-23-29b6fab13d23>\u001b[0m in \u001b[0;36m<module>\u001b[0;34m()\u001b[0m\n\u001b[1;32m      1\u001b[0m \u001b[0;31m# create a new dataframe\u001b[0m\u001b[0;34m\u001b[0m\u001b[0;34m\u001b[0m\u001b[0m\n\u001b[1;32m      2\u001b[0m \u001b[0mvenues_sorted\u001b[0m \u001b[0;34m=\u001b[0m \u001b[0mpd\u001b[0m\u001b[0;34m.\u001b[0m\u001b[0mDataFrame\u001b[0m\u001b[0;34m(\u001b[0m\u001b[0mcolumns\u001b[0m\u001b[0;34m=\u001b[0m\u001b[0mcolumns\u001b[0m\u001b[0;34m)\u001b[0m\u001b[0;34m\u001b[0m\u001b[0m\n\u001b[0;32m----> 3\u001b[0;31m \u001b[0mvenues_sorted\u001b[0m\u001b[0;34m[\u001b[0m\u001b[0;34m'Adress'\u001b[0m\u001b[0;34m]\u001b[0m \u001b[0;34m=\u001b[0m \u001b[0mpotentials_grouped\u001b[0m\u001b[0;34m[\u001b[0m\u001b[0;34m'Adress'\u001b[0m\u001b[0;34m]\u001b[0m\u001b[0;34m\u001b[0m\u001b[0m\n\u001b[0m\u001b[1;32m      4\u001b[0m \u001b[0;34m\u001b[0m\u001b[0m\n\u001b[1;32m      5\u001b[0m \u001b[0;32mfor\u001b[0m \u001b[0mind\u001b[0m \u001b[0;32min\u001b[0m \u001b[0mnp\u001b[0m\u001b[0;34m.\u001b[0m\u001b[0marange\u001b[0m\u001b[0;34m(\u001b[0m\u001b[0mpotentials_grouped\u001b[0m\u001b[0;34m.\u001b[0m\u001b[0mshape\u001b[0m\u001b[0;34m[\u001b[0m\u001b[0;36m0\u001b[0m\u001b[0;34m]\u001b[0m\u001b[0;34m)\u001b[0m\u001b[0;34m:\u001b[0m\u001b[0;34m\u001b[0m\u001b[0m\n", 
                        "\u001b[0;31mNameError\u001b[0m: name 'potentials_grouped' is not defined"
                    ], 
                    "output_type": "error"
                }
            ], 
            "source": "# create a new dataframe\nvenues_sorted = pd.DataFrame(columns=columns)\nvenues_sorted['Adress'] = potentials_grouped['Adress']\n\nfor ind in np.arange(potentials_grouped.shape[0]):\n    venues_sorted.iloc[ind, 1:] = return_most_common_venues(potentials_grouped.iloc[ind, :], num_top_venues)"
        }, 
        {
            "execution_count": null, 
            "cell_type": "code", 
            "metadata": {}, 
            "outputs": [], 
            "source": ""
        }
    ], 
    "metadata": {
        "kernelspec": {
            "display_name": "Python 3.5", 
            "name": "python3", 
            "language": "python"
        }, 
        "language_info": {
            "mimetype": "text/x-python", 
            "nbconvert_exporter": "python", 
            "version": "3.5.5", 
            "name": "python", 
            "file_extension": ".py", 
            "pygments_lexer": "ipython3", 
            "codemirror_mode": {
                "version": 3, 
                "name": "ipython"
            }
        }
    }, 
    "nbformat": 4
}