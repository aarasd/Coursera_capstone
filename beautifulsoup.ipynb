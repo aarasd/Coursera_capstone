{
    "nbformat_minor": 1, 
    "cells": [
        {
            "execution_count": 1, 
            "cell_type": "code", 
            "metadata": {}, 
            "outputs": [
                {
                    "ename": "IndentationError", 
                    "evalue": "unindent does not match any outer indentation level (<tokenize>, line 57)", 
                    "traceback": [
                        "\u001b[0;36m  File \u001b[0;32m\"<tokenize>\"\u001b[0;36m, line \u001b[0;32m57\u001b[0m\n\u001b[0;31m    neighborhoods =\u001b[0m\n\u001b[0m    ^\u001b[0m\n\u001b[0;31mIndentationError\u001b[0m\u001b[0;31m:\u001b[0m unindent does not match any outer indentation level\n"
                    ], 
                    "output_type": "error"
                }
            ], 
            "source": "import pandas as pd\nimport numpy as np\nimport requests\n\nfrom bs4 import BeautifulSoup\n\nsource = requests.get('https://en.wikipedia.org/wiki/List_of_postal__codes_of_Canada:_M').text\n\nsoup = BeautifulSoup(source, 'html5lib')\n\npostal_codes_dict={} # initialize an empty dictionary to save the data in \nfor table_cell in soup.find _all('td'):\n    try:\n        pstal code = table_cell.p.b.text # get the postal code\n        postal_code_investigate = table_cell.span.text\n        neighborhoods_data table.cell.span.text #get the rest of the data in the cell\n        borough = neighborhoods_data.split()[0] # get the borough in the cell\n        \n        # if the cell is not assigned then ignored it\n        if neighborhoods_data == 'Not assigned':\n            neighborhoods = []\n        # else process the data and add it to the dictionary\n        else:\n            postal_codes_dict[postal_code]\n            {}\n            \n        try:\n            neighborhoods = \n              neighborhoods_data.split\n                ('(')[1]\n                \n            # remove parantheses from neighborhoods string\n            neighborhoods = neighborhoods.replace('(',' ')\n            neighborhoods = neighborhoods.replace(')',' ')\n            \n            neighborhoods_names = neighborhoods.split('/') neighborhoods_clean = ', '.join([name.strip()for name in neighborhoods_names])\n        except\n        \n            borough = borough.strip('\\n')\n            neighborhoods_clean = borough\n            \n            # add borough neighborhoods to dictionary\n            postal_codes_dict[postal_code]['borough'] = borough\n            postal_codes_dict[postal_code]['neighborhoods'] = neighborhoods_clean\n    except:\n        pass\n    \n    # create an empty dataframe\n    columns = ['postalCode\", 'Borough','Neighborhoods']\n    toronto_data = pd.DataFrame(coloumns=coloumns)        \n    toronto_data\n               \n    # populate dataframe with data from dictionary\n     for ind, postal_code in enumerate (postal_codes_doct)  :\n               borough = \n               postal_codes_dict[postal_code]['borough']\n         neighborhoods = \n               postal_codes_dict[psotal_code]['neighborhoods']\n         toronto_data = toronto_data.append\n               ({\"PostalCode\": postal_code,\n                                \"Borough\": borough,\n                                 neighborhood},\n                                  \n                                 ignore_index=True)\n               \n    # print number of rows of dataframe\n    toronto_data.shape[0]"
        }, 
        {
            "execution_count": null, 
            "cell_type": "code", 
            "metadata": {}, 
            "outputs": [], 
            "source": ""
        }
    ], 
    "metadata": {
        "kernelspec": {
            "display_name": "Python 3.5", 
            "name": "python3", 
            "language": "python"
        }, 
        "language_info": {
            "mimetype": "text/x-python", 
            "nbconvert_exporter": "python", 
            "version": "3.5.5", 
            "name": "python", 
            "file_extension": ".py", 
            "pygments_lexer": "ipython3", 
            "codemirror_mode": {
                "version": 3, 
                "name": "ipython"
            }
        }
    }, 
    "nbformat": 4
}